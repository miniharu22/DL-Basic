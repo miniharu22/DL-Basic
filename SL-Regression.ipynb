{
 "cells": [
  {
   "cell_type": "code",
   "execution_count": null,
   "id": "1da563e2",
   "metadata": {},
   "outputs": [],
   "source": [
    "# Import Library\n",
    "from sklearn.model_selection import train_test_split\n",
    "from sklearn.linear_model import LinearRegression\n",
    "from sklearn.metrics import mean_absolute_error\n",
    "import numpy as np"
   ]
  },
  {
   "cell_type": "code",
   "execution_count": 2,
   "id": "fce09fcb",
   "metadata": {},
   "outputs": [],
   "source": [
    "# Sample Dataset\n",
    "# Area, Number of room, Price\n",
    "data = np.array([\n",
    "    [1400, 3, 240000],\n",
    "    [1600, 4, 270000],\n",
    "    [1700, 3, 310000],\n",
    "    [1875, 3, 330000]\n",
    "])\n",
    "\n",
    "# Split characteristics and Target  \n",
    "X = data[:, :2] # Area, Number of Room\n",
    "Y = data[:, 2]  # Price\n",
    "\n",
    "# Split\n",
    "X_train, X_test, Y_train, Y_test = train_test_split(X, Y,\n",
    "                                                     test_size= 0.2, random_state= 42)"
   ]
  },
  {
   "cell_type": "code",
   "execution_count": null,
   "id": "84ebc996",
   "metadata": {},
   "outputs": [],
   "source": [
    "# LinearRegression model Training\n",
    "model = LinearRegression()\n",
    "model.fit()"
   ]
  }
 ],
 "metadata": {
  "kernelspec": {
   "display_name": "Python 3",
   "language": "python",
   "name": "python3"
  },
  "language_info": {
   "codemirror_mode": {
    "name": "ipython",
    "version": 3
   },
   "file_extension": ".py",
   "mimetype": "text/x-python",
   "name": "python",
   "nbconvert_exporter": "python",
   "pygments_lexer": "ipython3",
   "version": "3.11.9"
  }
 },
 "nbformat": 4,
 "nbformat_minor": 5
}
