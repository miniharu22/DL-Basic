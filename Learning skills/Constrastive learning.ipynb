{
 "cells": [
  {
   "cell_type": "code",
   "execution_count": 1,
   "id": "ea59c37f",
   "metadata": {},
   "outputs": [],
   "source": [
    "from sklearn.datasets import fetch_openml\n",
    "import torch\n",
    "import numpy as np"
   ]
  },
  {
   "cell_type": "code",
   "execution_count": 2,
   "id": "03752320",
   "metadata": {},
   "outputs": [
    {
     "name": "stdout",
     "output_type": "stream",
     "text": [
      "torch.Size([60000, 1, 28, 28])\n",
      "torch.Size([60000])\n",
      "torch.Size([10000, 1, 28, 28])\n",
      "torch.Size([10000])\n"
     ]
    }
   ],
   "source": [
    "# Download & Preprocess Dataset \n",
    "mnist= fetch_openml('mnist_784')\n",
    "\n",
    "# Set GPU Device\n",
    "device = torch.device('cuda:0') if torch.cuda.is_available() else torch.device('cpu')\n",
    "\n",
    "# Set the first 60,000 out of 70,000 as Train data\n",
    "X_train = torch.tensor(np.array(mnist.data)).float().reshape(-1, 1, 28, 28)[:60000].to(device)\n",
    "Y_train = torch.tensor(np.array(list(map(np.int_, mnist.target))))[:60000].to(device)\n",
    "\n",
    "# Set the last 10,000 out of 70,000 as Test data\n",
    "X_test = torch.tensor(np.array(mnist.data)).float().reshape(-1, 1 ,28, 28)[60000:].to(device)\n",
    "Y_test = torch.tensor(np.array(list(map(np.int_, mnist.target))))[60000:].to(device)\n",
    "\n",
    "print(X_train.shape) # torch.Size([60000, 1, 28, 28])\n",
    "print(Y_train.shape) # torch.Size([60000])\n",
    "\n",
    "print(X_test.shape) # torch.Size([10000, 1, 28, 28])\n",
    "print(Y_test.shape) # torch.Size([10000])"
   ]
  },
  {
   "cell_type": "code",
   "execution_count": 3,
   "id": "848725ec",
   "metadata": {},
   "outputs": [
    {
     "name": "stderr",
     "output_type": "stream",
     "text": [
      "C:\\Users\\isang\\AppData\\Local\\Temp\\ipykernel_42384\\997699111.py:32: DeprecationWarning: __array__ implementation doesn't accept a copy keyword, so passing copy=False failed. __array__ must implement 'dtype' and 'copy' keyword arguments. To learn more, see the migration guide https://numpy.org/devdocs/numpy_2_0_migration_guide.html#adapting-to-changes-in-the-copy-keyword\n",
      "  original = np.array(img_example).reshape(-1, 28).astype(int)\n",
      "C:\\Users\\isang\\AppData\\Local\\Temp\\ipykernel_42384\\997699111.py:33: DeprecationWarning: __array__ implementation doesn't accept a copy keyword, so passing copy=False failed. __array__ must implement 'dtype' and 'copy' keyword arguments. To learn more, see the migration guide https://numpy.org/devdocs/numpy_2_0_migration_guide.html#adapting-to-changes-in-the-copy-keyword\n",
      "  aug_img = np.array(cutout_and_rotate(img_example)).reshape(-1, 28).astype(int)\n"
     ]
    },
    {
     "data": {
      "image/png": "[encoded data removed]",
      "text/plain": [
       "<Figure size 400x200 with 2 Axes>"
      ]
     },
     "metadata": {},
     "output_type": "display_data"
    }
   ],
   "source": [
    "# Data Augmentation\n",
    "def cutout_and_rotate(image):\n",
    "    image = image.clone().detach() \n",
    "    x_start = np.random.randint(20)     # Cut- out x-axis position to start (1 of 0-19)\n",
    "    y_start = np.random.randint(20)     # Cut- out y-axis position to start (1 of 0-19)\n",
    "\n",
    "    # Gray marking on the corresponding part\n",
    "    image[..., x_start:x_start+9, y_start:y_start+9] = 255/2\n",
    "    # 90 degree rotation based on the last two axis\n",
    "    return torch.rot90(image, 1, [-2, -1])\n",
    "\n",
    "# Test Case fot Data Augmentation\n",
    "import matplotlib.pyplot as plt\n",
    "from matplotlib.pyplot import style\n",
    "\n",
    "# Specify whit background & its size  \n",
    "style.use('default')\n",
    "figure = plt.figure()\n",
    "figure.set_size_inches(4, 2)\n",
    "\n",
    "# Set the style for black & white print\n",
    "style.use('grayscale')\n",
    "\n",
    "# 1x2 size grid setting\n",
    "axes = []\n",
    "for i in range(1,3):\n",
    "    axes.append(figure.add_subplot(1, 2, i))\n",
    "\n",
    "# Visulization of the original Image\n",
    "# Visulization of the image performed by augmentation fot the first image\n",
    "img_example = X_train[0].clone().detach().cpu()\n",
    "original = np.array(img_example).reshape(-1, 28).astype(int)\n",
    "aug_img = np.array(cutout_and_rotate(img_example)).reshape(-1, 28).astype(int)\n",
    "\n",
    "axes[0].matshow(original)\n",
    "axes[1].matshow(aug_img)\n",
    "\n",
    "axes[0].set_axis_off()\n",
    "axes[0].set_title('original')\n",
    "axes[1].set_axis_off() \n",
    "axes[1].set_title('augmentation')\n",
    "\n",
    "plt.show()"
   ]
  },
  {
   "cell_type": "code",
   "execution_count": 4,
   "id": "b63b65fd",
   "metadata": {},
   "outputs": [],
   "source": [
    "# Implementing CNN Model Structure\n",
    "from torch import nn\n",
    "import torch.nn.functional as F\n",
    "\n",
    "class CNN(nn.Module):\n",
    "    def __init__(self):\n",
    "        super(CNN, self).__init__()\n",
    "        self.conv1 = nn.Conv2d(in_channels=1, out_channels=10, kernel_size=5, stride= 1)\n",
    "        self.conv2 = nn.Conv2d(in_channels=10, out_channels=20, kernel_size=5, stride= 1)\n",
    "        self.fc = nn.Linear(4 * 4 * 20, 100)\n",
    "\n",
    "    def forward(self, x):\n",
    "        # (batch, 1, 28, 28) -> (batch, 10, 24, 24)\n",
    "        x = F.relu(self.conv1(x)) \n",
    "        # (batch, 10, 24, 24) -> (batch, 10, 12, 12)\n",
    "        x = F.max_pool2d(x, kernel_size=2, stride=2) \n",
    "        # (batch, 10, 12, 12) -> (batch, 20, 8, 8)\n",
    "        x = F.relu(self.conv2(x)) \n",
    "        # (batch, 20, 8, 8) -> (batch, 20, 4, 4)\n",
    "        x = F.max_pool2d(x, kernel_size=2, stride=2) \n",
    "        # (batch, 20, 4, 4) -> (batch, 320)\n",
    "        x = x.view(-1, 4 * 4 * 20) \n",
    "        # (batch, 320) -> (batch, 100)\n",
    "        x = F.relu(self.fc(x)) \n",
    "        # (batch, 100)\n",
    "        return x "
   ]
  },
  {
   "cell_type": "code",
   "execution_count": 5,
   "id": "90177af0",
   "metadata": {},
   "outputs": [],
   "source": [
    "# Implementing Loss Function\n",
    "class SimCLR_Loss(nn.Module):\n",
    "    def __init__(self, batch_size, temperature):\n",
    "        super().__init__()\n",
    "        self.batch_size = batch_size\n",
    "        self.temperature = temperature\n",
    "\n",
    "        self.mask = self.mask_correlated_samples(batch_size)\n",
    "        self.criterion = nn.CrossEntropyLoss(reduction=\"sum\")\n",
    "        self.similarity_f = nn.CosineSimilarity(dim=2)\n",
    "\n",
    "    # masking matrix to import only the internal sum\n",
    "        # between the negative samples of the loss denominator part\n",
    "    def mask_correlated_samples(self, batch_size):\n",
    "        N = 2 * batch_size\n",
    "        mask = torch.ones((N, N), dtype=bool)\n",
    "        mask = mask.fill_diagonal_(0)\n",
    "        \n",
    "        for i in range(batch_size):\n",
    "            mask[i, batch_size + i] = 0\n",
    "            mask[batch_size + i, i] = 0\n",
    "        return mask\n",
    "\n",
    "    def forward(self, z_i, z_j):\n",
    "\n",
    "        N = 2 * self.batch_size\n",
    "\n",
    "        z = torch.cat((z_i, z_j), dim=0)\n",
    "\n",
    "        sim = self.similarity_f(z.unsqueeze(1), z.unsqueeze(0)) / self.temperature\n",
    "\n",
    "        # The source of the loss molecule part\n",
    "        # The part to get the internal sum between the augmentation images\n",
    "        sim_i_j = torch.diag(sim, self.batch_size)\n",
    "        sim_j_i = torch.diag(sim, -self.batch_size)\n",
    "        \n",
    "        positive_samples = torch.cat((sim_i_j, sim_j_i), dim=0).reshape(N, 1)\n",
    "        negative_samples = sim[self.mask].reshape(N, -1)\n",
    "        \n",
    "        labels = torch.from_numpy(np.array([0]*N)).reshape(-1).to(positive_samples.device).long()\n",
    "        \n",
    "        logits = torch.cat((positive_samples, negative_samples), dim=1)\n",
    "        loss = self.criterion(logits, labels)\n",
    "        loss /= N\n",
    "        \n",
    "        return loss"
   ]
  },
  {
   "cell_type": "code",
   "execution_count": 6,
   "id": "2a78e0c5",
   "metadata": {},
   "outputs": [
    {
     "data": {
      "application/vnd.jupyter.widget-view+json": {
       "model_id": "2eaf5536fa7e4f9bb06409cb845499be",
       "version_major": 2,
       "version_minor": 0
      },
      "text/plain": [
       "  0%|          | 0/1875 [00:00<?, ?it/s]"
      ]
     },
     "metadata": {},
     "output_type": "display_data"
    },
    {
     "name": "stdout",
     "output_type": "stream",
     "text": [
      "Epoch : 1, Avg Loss : 3.0187\n"
     ]
    },
    {
     "data": {
      "application/vnd.jupyter.widget-view+json": {
       "model_id": "51eaca3d7ca747c7ac8b6bbbe4a0074c",
       "version_major": 2,
       "version_minor": 0
      },
      "text/plain": [
       "  0%|          | 0/1875 [00:00<?, ?it/s]"
      ]
     },
     "metadata": {},
     "output_type": "display_data"
    },
    {
     "name": "stdout",
     "output_type": "stream",
     "text": [
      "Epoch : 2, Avg Loss : 2.7996\n"
     ]
    },
    {
     "data": {
      "application/vnd.jupyter.widget-view+json": {
       "model_id": "7f4e659346b54f7b85a05c713ca6dce7",
       "version_major": 2,
       "version_minor": 0
      },
      "text/plain": [
       "  0%|          | 0/1875 [00:00<?, ?it/s]"
      ]
     },
     "metadata": {},
     "output_type": "display_data"
    },
    {
     "name": "stdout",
     "output_type": "stream",
     "text": [
      "Epoch : 3, Avg Loss : 2.7614\n"
     ]
    },
    {
     "data": {
      "application/vnd.jupyter.widget-view+json": {
       "model_id": "a47ceae273ab454cb71c11bbfe80461b",
       "version_major": 2,
       "version_minor": 0
      },
      "text/plain": [
       "  0%|          | 0/1875 [00:00<?, ?it/s]"
      ]
     },
     "metadata": {},
     "output_type": "display_data"
    },
    {
     "name": "stdout",
     "output_type": "stream",
     "text": [
      "Epoch : 4, Avg Loss : 2.7169\n"
     ]
    },
    {
     "data": {
      "application/vnd.jupyter.widget-view+json": {
       "model_id": "229d776d2e0b44f4af95de2985bf17f6",
       "version_major": 2,
       "version_minor": 0
      },
      "text/plain": [
       "  0%|          | 0/1875 [00:00<?, ?it/s]"
      ]
     },
     "metadata": {},
     "output_type": "display_data"
    },
    {
     "name": "stdout",
     "output_type": "stream",
     "text": [
      "Epoch : 5, Avg Loss : 2.6954\n"
     ]
    },
    {
     "data": {
      "application/vnd.jupyter.widget-view+json": {
       "model_id": "578d82043bdf4d0e9c111e8f90d5a7c5",
       "version_major": 2,
       "version_minor": 0
      },
      "text/plain": [
       "  0%|          | 0/1875 [00:00<?, ?it/s]"
      ]
     },
     "metadata": {},
     "output_type": "display_data"
    },
    {
     "name": "stdout",
     "output_type": "stream",
     "text": [
      "Epoch : 6, Avg Loss : 2.6813\n"
     ]
    },
    {
     "data": {
      "application/vnd.jupyter.widget-view+json": {
       "model_id": "d3775ba6e610426bae004ced5e91f4dd",
       "version_major": 2,
       "version_minor": 0
      },
      "text/plain": [
       "  0%|          | 0/1875 [00:00<?, ?it/s]"
      ]
     },
     "metadata": {},
     "output_type": "display_data"
    },
    {
     "name": "stdout",
     "output_type": "stream",
     "text": [
      "Epoch : 7, Avg Loss : 2.6652\n"
     ]
    },
    {
     "data": {
      "application/vnd.jupyter.widget-view+json": {
       "model_id": "abdff69e53c44266b728a4e9ebc38365",
       "version_major": 2,
       "version_minor": 0
      },
      "text/plain": [
       "  0%|          | 0/1875 [00:00<?, ?it/s]"
      ]
     },
     "metadata": {},
     "output_type": "display_data"
    },
    {
     "name": "stdout",
     "output_type": "stream",
     "text": [
      "Epoch : 8, Avg Loss : 2.6564\n"
     ]
    },
    {
     "data": {
      "application/vnd.jupyter.widget-view+json": {
       "model_id": "7984fb5467aa43ba83a928076340e0b4",
       "version_major": 2,
       "version_minor": 0
      },
      "text/plain": [
       "  0%|          | 0/1875 [00:00<?, ?it/s]"
      ]
     },
     "metadata": {},
     "output_type": "display_data"
    },
    {
     "name": "stdout",
     "output_type": "stream",
     "text": [
      "Epoch : 9, Avg Loss : 2.6507\n"
     ]
    },
    {
     "data": {
      "application/vnd.jupyter.widget-view+json": {
       "model_id": "3bb392f521f54135b2b3f109ea0b0601",
       "version_major": 2,
       "version_minor": 0
      },
      "text/plain": [
       "  0%|          | 0/1875 [00:00<?, ?it/s]"
      ]
     },
     "metadata": {},
     "output_type": "display_data"
    },
    {
     "name": "stdout",
     "output_type": "stream",
     "text": [
      "Epoch : 10, Avg Loss : 2.6429\n"
     ]
    }
   ],
   "source": [
    "# Pre-train\n",
    "from torch.utils.data import TensorDataset\n",
    "from torch.utils.data import DataLoader\n",
    "from tqdm.notebook import tqdm\n",
    "\n",
    "# Augmentation for each X_train data\n",
    "X_train_aug = cutout_and_rotate(X_train) \n",
    "# Declare to GPU for Learning\n",
    "X_train_aug = X_train_aug.to(device) \n",
    "\n",
    "# Pair with Augmentation data\n",
    "dataset = TensorDataset(X_train, X_train_aug) \n",
    "batch_size = 32\n",
    "\n",
    "dataloader = DataLoader(\n",
    "            dataset,\n",
    "            batch_size = batch_size)\n",
    "\n",
    "# Declare Model variable\n",
    "model = CNN() \n",
    "# Declare Loss Function\n",
    "loss_func = SimCLR_Loss(batch_size, temperature = 0.5) \n",
    "\n",
    "# training\n",
    "epochs = 10\n",
    "model.to(device)\n",
    "model.train()\n",
    "\n",
    "optimizer = torch.optim.Adam(model.parameters(), lr=1e-4)\n",
    "\n",
    "for i in range(1, epochs + 1):\n",
    "    total_loss = 0\n",
    "    for data in tqdm(dataloader):\n",
    "        origin_vec = model(data[0])\n",
    "        aug_vec = model(data[1])\n",
    "\n",
    "        loss = loss_func(origin_vec, aug_vec)\n",
    "        total_loss += loss.item()\n",
    "\n",
    "        optimizer.zero_grad()\n",
    "        loss.backward()\n",
    "        optimizer.step()\n",
    "\n",
    "    print('Epoch : %d, Avg Loss : %.4f'%(i, total_loss / len(dataloader)))"
   ]
  },
  {
   "cell_type": "code",
   "execution_count": null,
   "id": "014e7371",
   "metadata": {},
   "outputs": [
    {
     "data": {
      "application/vnd.jupyter.widget-view+json": {
       "model_id": "2b8b48cef75a4cf7aa48e6fc8f3e4ed4",
       "version_major": 2,
       "version_minor": 0
      },
      "text/plain": [
       "  0%|          | 0/1875 [00:00<?, ?it/s]"
      ]
     },
     "metadata": {},
     "output_type": "display_data"
    },
    {
     "name": "stdout",
     "output_type": "stream",
     "text": [
      "Epoch : 1, Train Accuracy : 69.58%\n"
     ]
    },
    {
     "data": {
      "application/vnd.jupyter.widget-view+json": {
       "model_id": "d137e009db5b498d916ad46a3740be1d",
       "version_major": 2,
       "version_minor": 0
      },
      "text/plain": [
       "  0%|          | 0/1875 [00:00<?, ?it/s]"
      ]
     },
     "metadata": {},
     "output_type": "display_data"
    },
    {
     "name": "stdout",
     "output_type": "stream",
     "text": [
      "Epoch : 2, Train Accuracy : 93.64%\n"
     ]
    },
    {
     "data": {
      "application/vnd.jupyter.widget-view+json": {
       "model_id": "3b3a8d4c4c54429d9406df7f6824c5a6",
       "version_major": 2,
       "version_minor": 0
      },
      "text/plain": [
       "  0%|          | 0/1875 [00:00<?, ?it/s]"
      ]
     },
     "metadata": {},
     "output_type": "display_data"
    },
    {
     "name": "stdout",
     "output_type": "stream",
     "text": [
      "Epoch : 3, Train Accuracy : 95.92%\n"
     ]
    },
    {
     "data": {
      "application/vnd.jupyter.widget-view+json": {
       "model_id": "158e085eb7d849a1813a513db6ae1154",
       "version_major": 2,
       "version_minor": 0
      },
      "text/plain": [
       "  0%|          | 0/1875 [00:00<?, ?it/s]"
      ]
     },
     "metadata": {},
     "output_type": "display_data"
    },
    {
     "name": "stdout",
     "output_type": "stream",
     "text": [
      "Epoch : 4, Train Accuracy : 96.86%\n"
     ]
    },
    {
     "data": {
      "application/vnd.jupyter.widget-view+json": {
       "model_id": "a72badc798374460b15aafc28b88fc5d",
       "version_major": 2,
       "version_minor": 0
      },
      "text/plain": [
       "  0%|          | 0/1875 [00:00<?, ?it/s]"
      ]
     },
     "metadata": {},
     "output_type": "display_data"
    },
    {
     "name": "stdout",
     "output_type": "stream",
     "text": [
      "Epoch : 5, Train Accuracy : 97.40%\n"
     ]
    },
    {
     "data": {
      "application/vnd.jupyter.widget-view+json": {
       "model_id": "3de2942a97c24cc882b8513eb889d4d9",
       "version_major": 2,
       "version_minor": 0
      },
      "text/plain": [
       "  0%|          | 0/1875 [00:00<?, ?it/s]"
      ]
     },
     "metadata": {},
     "output_type": "display_data"
    },
    {
     "name": "stdout",
     "output_type": "stream",
     "text": [
      "Epoch : 6, Train Accuracy : 97.78%\n"
     ]
    },
    {
     "data": {
      "application/vnd.jupyter.widget-view+json": {
       "model_id": "5053e23d8f8a4cc7a8fa8f1c8a5833eb",
       "version_major": 2,
       "version_minor": 0
      },
      "text/plain": [
       "  0%|          | 0/1875 [00:00<?, ?it/s]"
      ]
     },
     "metadata": {},
     "output_type": "display_data"
    },
    {
     "name": "stdout",
     "output_type": "stream",
     "text": [
      "Epoch : 7, Train Accuracy : 98.09%\n"
     ]
    },
    {
     "data": {
      "application/vnd.jupyter.widget-view+json": {
       "model_id": "4c90dd99449a48bd807465f1c482bbb6",
       "version_major": 2,
       "version_minor": 0
      },
      "text/plain": [
       "  0%|          | 0/1875 [00:00<?, ?it/s]"
      ]
     },
     "metadata": {},
     "output_type": "display_data"
    },
    {
     "name": "stdout",
     "output_type": "stream",
     "text": [
      "Epoch : 8, Train Accuracy : 98.31%\n"
     ]
    },
    {
     "data": {
      "application/vnd.jupyter.widget-view+json": {
       "model_id": "94b2ec4afdfe4b7cacd19352d50d4ac9",
       "version_major": 2,
       "version_minor": 0
      },
      "text/plain": [
       "  0%|          | 0/1875 [00:00<?, ?it/s]"
      ]
     },
     "metadata": {},
     "output_type": "display_data"
    },
    {
     "name": "stdout",
     "output_type": "stream",
     "text": [
      "Epoch : 9, Train Accuracy : 98.48%\n"
     ]
    },
    {
     "data": {
      "application/vnd.jupyter.widget-view+json": {
       "model_id": "92347e9534964ec69601b7b88839211c",
       "version_major": 2,
       "version_minor": 0
      },
      "text/plain": [
       "  0%|          | 0/1875 [00:00<?, ?it/s]"
      ]
     },
     "metadata": {},
     "output_type": "display_data"
    },
    {
     "name": "stdout",
     "output_type": "stream",
     "text": [
      "Epoch : 10, Train Accuracy : 98.61%\n"
     ]
    }
   ],
   "source": [
    "# Downstream model for Classification\n",
    "class CNN_classifier(nn.Module):\n",
    "    def __init__(self, model):\n",
    "        super().__init__()\n",
    "        # Load model trained with Constrastive Learning\n",
    "        self.CNN = model \n",
    "        # Projection by the number of class dimensions\n",
    "        self.mlp = nn.Linear(100, 10) \n",
    "\n",
    "    def forward(self, x):\n",
    "        x = self.CNN(x) # Convert to (batch, 100)\n",
    "        x = self.mlp(x) # Convert to (batch, 10)\n",
    "        return x # (batch, 10)\n",
    "\n",
    "# Pair with Data & Lable\n",
    "class_dataset = TensorDataset(X_train, Y_train)\n",
    "batch_size = 32\n",
    "\n",
    "class_dataloader = DataLoader(\n",
    "        class_dataset,\n",
    "        batch_size = batch_size)\n",
    "\n",
    "\n",
    "# Classification Downstream model Training\n",
    "classifier = CNN_classifier(model).to(device)\n",
    "classifier_loss = nn.CrossEntropyLoss()\n",
    "\n",
    "optimizer = torch.optim.Adam(classifier.parameters(), lr= 1e-4)\n",
    "\n",
    "for i in range(1, epochs + 1):\n",
    "    correct = 0\n",
    "    for data in tqdm(class_dataloader):\n",
    "        logits = classifier(data[0])\n",
    "\n",
    "        loss = classifier_loss(logits, data[1].long())\n",
    "\n",
    "        optimizer.zero_grad()\n",
    "        loss.backward()\n",
    "        optimizer.step()\n",
    "\n",
    "        # Accumulate number of correct answers for Accuracy calculation\n",
    "        correct += torch.sum(torch.argmax(logits, 1) == data[1]).item() \n",
    "\n",
    "    print('Epoch : %d, Train Accuracy : %.2f%%'%(i, correct * 100 / len(X_train)))"
   ]
  },
  {
   "cell_type": "code",
   "execution_count": 9,
   "id": "405f4142",
   "metadata": {},
   "outputs": [
    {
     "data": {
      "application/vnd.jupyter.widget-view+json": {
       "model_id": "93641729a67f48cea60229f8f636ff4b",
       "version_major": 2,
       "version_minor": 0
      },
      "text/plain": [
       "  0%|          | 0/313 [00:00<?, ?it/s]"
      ]
     },
     "metadata": {},
     "output_type": "display_data"
    },
    {
     "name": "stdout",
     "output_type": "stream",
     "text": [
      "Test Accuracy : 98.31%\n"
     ]
    }
   ],
   "source": [
    "# Verification with Test Data\n",
    "# pair with Test data & Label\n",
    "test_dataset = TensorDataset(X_test, Y_test) \n",
    "batch_size = 32\n",
    "\n",
    "test_dataloader = DataLoader(\n",
    "            test_dataset,\n",
    "            batch_size = batch_size)\n",
    "\n",
    "# Convert to Test mode\n",
    "classifier.eval() \n",
    "\n",
    "correct = 0\n",
    "for data in tqdm(test_dataloader):\n",
    "\n",
    "    logits = classifier(data[0])\n",
    "    # Accumulate number of correct answers for Accuracy calculation\n",
    "    correct += torch.sum(torch.argmax(logits, 1) == data[1]).item() \n",
    "\n",
    "print('Test Accuracy : %.2f%%'%(correct * 100 / len(X_test)))"
   ]
  }
 ],
 "metadata": {
  "kernelspec": {
   "display_name": "Python 3",
   "language": "python",
   "name": "python3"
  },
  "language_info": {
   "codemirror_mode": {
    "name": "ipython",
    "version": 3
   },
   "file_extension": ".py",
   "mimetype": "text/x-python",
   "name": "python",
   "nbconvert_exporter": "python",
   "pygments_lexer": "ipython3",
   "version": "3.11.9"
  }
 },
 "nbformat": 4,
 "nbformat_minor": 5
}
