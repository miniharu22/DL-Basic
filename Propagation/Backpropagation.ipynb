{
 "cells": [
  {
   "cell_type": "code",
   "execution_count": 57,
   "id": "3d75c053",
   "metadata": {},
   "outputs": [],
   "source": [
    "import torch\n",
    "import torch.nn as nn\n",
    "import torch.optim as optim\n",
    "\n",
    "# Example data\n",
    "x_train = torch.tensor([[1.0], [2.0], [3.0], [4.0]])\n",
    "y_train = torch.tensor([[2.0], [4.0], [6.0], [8.0]])\n",
    "\n",
    "# Simple LinearRegression model with Forward Propagation  \n",
    "class LinearRegressionModel(nn.Module):\n",
    "    def __init__(self):\n",
    "        super(LinearRegressionModel, self).__init__()\n",
    "        self.linear = nn.Linear(1,1) # Input : 1, Output : 1\n",
    "\n",
    "    def forward(self, x):\n",
    "        return self.linear(x)"
   ]
  },
  {
   "cell_type": "code",
   "execution_count": 58,
   "id": "b3eb6e7d",
   "metadata": {},
   "outputs": [
    {
     "name": "stdout",
     "output_type": "stream",
     "text": [
      "Epoch [100/1000], Loss: 17.822374\n",
      "Epoch [200/1000], Loss: 3.998354\n",
      "Epoch [300/1000], Loss: 0.747344\n",
      "Epoch [400/1000], Loss: 0.254126\n",
      "Epoch [500/1000], Loss: 0.192581\n",
      "Epoch [600/1000], Loss: 0.171242\n",
      "Epoch [700/1000], Loss: 0.152221\n",
      "Epoch [800/1000], Loss: 0.133719\n",
      "Epoch [900/1000], Loss: 0.116020\n",
      "Epoch [1000/1000], Loss: 0.099409\n"
     ]
    }
   ],
   "source": [
    "# Train code  \n",
    "# Generate model\n",
    "model = LinearRegressionModel()\n",
    "# Set Optimizer with Adam\n",
    "optimizer = optim.Adam(model.parameters(), lr = 0.01)\n",
    "# Loss function  \n",
    "criterion = nn.MSELoss()\n",
    "\n",
    "# Training loop\n",
    "for epoch in range(1000):\n",
    "    # Foward Propagation\n",
    "    outputs = model(x_train)\n",
    "    loss = criterion(outputs, y_train)\n",
    "\n",
    "    # Backpropagation\n",
    "    optimizer.zero_grad()   # Initialize gradient\n",
    "    loss.backward()         # Calculate gradient\n",
    "    optimizer.step()        # Update gradient\n",
    "\n",
    "    if (epoch+1) % 100 == 0:\n",
    "        print(f\"Epoch [{epoch+1}/{1000}], Loss: {loss.item():.6f}\")"
   ]
  }
 ],
 "metadata": {
  "kernelspec": {
   "display_name": "Python 3",
   "language": "python",
   "name": "python3"
  },
  "language_info": {
   "codemirror_mode": {
    "name": "ipython",
    "version": 3
   },
   "file_extension": ".py",
   "mimetype": "text/x-python",
   "name": "python",
   "nbconvert_exporter": "python",
   "pygments_lexer": "ipython3",
   "version": "3.11.9"
  }
 },
 "nbformat": 4,
 "nbformat_minor": 5
}
